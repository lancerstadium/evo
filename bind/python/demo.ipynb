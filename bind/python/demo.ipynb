{
 "cells": [
  {
   "cell_type": "markdown",
   "metadata": {},
   "source": [
    "## Pyevo tutorial\n",
    "\n",
    "### 1 EVO Usage\n",
    "\n",
    "1. Use `import` to import our lib `pyevo`:"
   ]
  },
  {
   "cell_type": "code",
   "execution_count": 1,
   "metadata": {},
   "outputs": [],
   "source": [
    "import pyevo"
   ]
  },
  {
   "cell_type": "markdown",
   "metadata": {},
   "source": [
    "2. Init a `onnx` runtime:"
   ]
  },
  {
   "cell_type": "code",
   "execution_count": 10,
   "metadata": {},
   "outputs": [
    {
     "data": {
      "text/plain": [
       "<pyevo.RunTime at 0x7fe179c9f630>"
      ]
     },
     "execution_count": 10,
     "metadata": {},
     "output_type": "execute_result"
    }
   ],
   "source": [
    "rt = pyevo.RunTime(\"onnx\")\n",
    "rt"
   ]
  },
  {
   "cell_type": "markdown",
   "metadata": {},
   "source": [
    "3. Load `onnx` Model:"
   ]
  },
  {
   "cell_type": "code",
   "execution_count": 11,
   "metadata": {},
   "outputs": [
    {
     "data": {
      "text/plain": [
       "<pyevo.Model at 0x7fe179c9f970>"
      ]
     },
     "execution_count": 11,
     "metadata": {},
     "output_type": "execute_result"
    }
   ],
   "source": [
    "rt.load(\"../../tests/model/mnist_8/model.onnx\")"
   ]
  },
  {
   "cell_type": "markdown",
   "metadata": {},
   "source": [
    "4. Infer Model:"
   ]
  },
  {
   "cell_type": "code",
   "execution_count": 12,
   "metadata": {},
   "outputs": [],
   "source": [
    "rt.run()"
   ]
  },
  {
   "cell_type": "markdown",
   "metadata": {},
   "source": [
    "5. Get Graph Info:"
   ]
  },
  {
   "cell_type": "code",
   "execution_count": 13,
   "metadata": {},
   "outputs": [
    {
     "name": "stderr",
     "output_type": "stream",
     "text": [
      "[Graph: CNTKGraph]\n",
      "| --------------------------------------------------------- |\n",
      "|     Layers( 12)      |      Input      |      Output      |\n",
      "| -------------------- | --------------- | ---------------- |\n",
      "|              Reshape |     [16,4,4,10] |         [256,10] |\n",
      "|                 Conv |     [1,1,28,28] |      [1,8,28,28] |\n",
      "|                  Add |     [1,8,28,28] |      [1,8,28,28] |\n",
      "|                 Relu |     [1,8,28,28] |      [1,8,28,28] |\n",
      "|              MaxPool |     [1,8,28,28] |      [1,8,14,14] |\n",
      "|                 Conv |     [1,8,14,14] |     [1,16,14,14] |\n",
      "|                  Add |    [1,16,14,14] |     [1,16,14,14] |\n",
      "|                 Relu |    [1,16,14,14] |     [1,16,14,14] |\n",
      "|              MaxPool |    [1,16,14,14] |       [1,16,4,4] |\n",
      "|              Reshape |      [1,16,4,4] |          [1,256] |\n",
      "|               MatMul |         [1,256] |           [1,10] |\n",
      "|                  Add |          [1,10] |           [1,10] |\n",
      "| --------------------------------------------------------- |\n"
     ]
    }
   ],
   "source": [
    "rt.dump_graph()"
   ]
  },
  {
   "cell_type": "markdown",
   "metadata": {},
   "source": [
    "### 2 EVO demo - 手写体识别\n",
    "\n",
    "1. 导入数据：\n"
   ]
  },
  {
   "cell_type": "code",
   "execution_count": null,
   "metadata": {},
   "outputs": [],
   "source": [
    "import numpy as np\n",
    "import matplotlib.pyplot as plt\n",
    "import struct\n",
    "\n",
    "def read_images(filename):\n",
    "    with open(filename, 'rb') as f:\n",
    "        magic, num, rows, cols = struct.unpack(\">IIII\", f.read(16))\n",
    "        images = np.fromfile(f, dtype=np.uint8).reshape(num, rows, cols)\n",
    "    return images\n",
    "\n",
    "def read_labels(filename):\n",
    "    with open(filename, 'rb') as f:\n",
    "        magic, num = struct.unpack(\">II\", f.read(8))\n",
    "        labels = np.fromfile(f, dtype=np.uint8)\n",
    "    return labels\n",
    "\n",
    "def visualize_images(images, labels, num_images=10):\n",
    "    plt.figure(figsize=(10, 10))\n",
    "    for i in range(num_images):\n",
    "        plt.subplot(1, num_images, i+1)\n",
    "        plt.imshow(images[i], cmap='gray')\n",
    "        plt.title(f\"Label: {labels[i]}\")\n",
    "        plt.axis('off')\n",
    "    plt.show()"
   ]
  },
  {
   "cell_type": "code",
   "execution_count": null,
   "metadata": {},
   "outputs": [],
   "source": [
    "# 读取图像和标签\n",
    "images = read_images('../../tests/model/mnist_8/test_data_set_3/t10k-images-idx3-ubyte')\n",
    "labels = read_labels('../../tests/model/mnist_8/test_data_set_3/t10k-labels-idx1-ubyte')"
   ]
  },
  {
   "cell_type": "code",
   "execution_count": null,
   "metadata": {},
   "outputs": [],
   "source": [
    "# 可视化前10张图像\n",
    "visualize_images(images, labels, num_images=10)"
   ]
  },
  {
   "cell_type": "markdown",
   "metadata": {},
   "source": [
    "2. 推理："
   ]
  },
  {
   "cell_type": "code",
   "execution_count": 19,
   "metadata": {},
   "outputs": [
    {
     "name": "stderr",
     "output_type": "stream",
     "text": [
      "Plus214_Output_0 <float32/NCHW> [1,10] = \n",
      "[[975.67, -618.724, 6574.57, 668.028, -917.272, -1671.64, -1952.76, -61.5493, -777.176, -1439.53,]]\n",
      "\n",
      "Plus214_Output_0 <float32> [1,10]\n"
     ]
    }
   ],
   "source": [
    "rt.load(\"../../tests/model/mnist_8/model.onnx\")\n",
    "t0 = rt.load_tensor(\"../../tests/model/mnist_8/test_data_set_0/input_0.pb\")\n",
    "rt.set_tensor(\"Input3\", t0)\n",
    "rt.run()\n",
    "t1 = rt.get_tensor(\"Plus214_Output_0\")\n",
    "t1.dump(1)"
   ]
  }
 ],
 "metadata": {
  "kernelspec": {
   "display_name": "Python 3",
   "language": "python",
   "name": "python3"
  },
  "language_info": {
   "codemirror_mode": {
    "name": "ipython",
    "version": 3
   },
   "file_extension": ".py",
   "mimetype": "text/x-python",
   "name": "python",
   "nbconvert_exporter": "python",
   "pygments_lexer": "ipython3",
   "version": "3.10.12"
  }
 },
 "nbformat": 4,
 "nbformat_minor": 2
}
